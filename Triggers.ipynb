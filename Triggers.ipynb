{
  "nbformat": 4,
  "nbformat_minor": 0,
  "metadata": {
    "colab": {
      "provenance": [],
      "authorship_tag": "ABX9TyOJweHha7xZGOK4rETZU/lE",
      "include_colab_link": true
    },
    "kernelspec": {
      "name": "python3",
      "display_name": "Python 3"
    },
    "language_info": {
      "name": "python"
    }
  },
  "cells": [
    {
      "cell_type": "markdown",
      "metadata": {
        "id": "view-in-github",
        "colab_type": "text"
      },
      "source": [
        "<a href=\"https://colab.research.google.com/github/JhonatanCI/CheatSheets-SQL/blob/main/Triggers.ipynb\" target=\"_parent\"><img src=\"https://colab.research.google.com/assets/colab-badge.svg\" alt=\"Open In Colab\"/></a>"
      ]
    },
    {
      "cell_type": "markdown",
      "source": [
        "En SQL, un trigger es un tipo de objeto que permite definir un conjunto de instrucciones que se ejecutarán automáticamente en respuesta a ciertos eventos que ocurran en una tabla o vista de la base de datos. Los triggers se pueden utilizar para realizar acciones específicas en una base de datos, como la actualización de otras tablas, la validación de datos, la generación de alertas o la ejecución de procedimientos almacenados.\n",
        "\n",
        "Los triggers se definen en la base de datos y se asocian a una tabla o vista específica. Pueden ser de dos tipos:\n",
        "\n",
        "Trigger de fila: se ejecuta una vez por cada fila afectada por la operación que activa el trigger (por ejemplo, una inserción, actualización o eliminación de una fila).\n",
        "\n",
        "Trigger de tabla: se ejecuta una sola vez por cada operación que activa el trigger, independientemente del número de filas afectadas.\n",
        "\n",
        "Los triggers se activan automáticamente cuando se produce un evento que coincide con su definición. Los eventos que pueden activar un trigger incluyen:\n",
        "\n",
        "Inserción de una fila en una tabla.\n",
        "Actualización de una fila en una tabla.\n",
        "Eliminación de una fila de una tabla.\n",
        "Modificación de una vista.\n",
        "Otros eventos definidos por el usuario.\n",
        "A continuación, se presentan algunos ejemplos de casos en los que se pueden utilizar triggers en SQL:\n",
        "\n",
        "Validación de datos: se puede utilizar un trigger para asegurarse de que los datos que se están insertando o actualizando en una tabla cumplen ciertas reglas o restricciones.\n",
        "\n",
        "Auditoría de datos: se puede utilizar un trigger para registrar los cambios que se realizan en una tabla, manteniendo un registro de las modificaciones realizadas por los usuarios.\n",
        "\n",
        "Replicación de datos: se puede utilizar un trigger para actualizar automáticamente los datos de otras tablas o bases de datos cuando se realizan cambios en una tabla específica.\n",
        "\n",
        "Control de acceso: se puede utilizar un trigger para controlar el acceso a ciertas tablas o vistas, por ejemplo, negando la posibilidad de eliminar registros en una tabla específica a ciertos usuarios.\n",
        "\n",
        "En resumen, los triggers son una herramienta útil y poderosa en SQL que permiten automatizar acciones en respuesta a eventos específicos, lo que puede ayudar a garantizar la integridad y la consistencia de los datos en una base de datos."
      ],
      "metadata": {
        "id": "iGI6T-IyNbgV"
      }
    },
    {
      "cell_type": "markdown",
      "source": [
        "Para declarar un trigger en SQL, se utiliza la sintaxis:"
      ],
      "metadata": {
        "id": "NnVu7QAmN1Bc"
      }
    },
    {
      "cell_type": "code",
      "source": [
        "CREATE TRIGGER trigger_name\n",
        "ON table_name\n",
        "AFTER {INSERT | UPDATE | DELETE}\n",
        "AS\n",
        "BEGIN\n",
        "   -- Código del trigger aquí\n",
        "END;"
      ],
      "metadata": {
        "id": "jqkFQ3TyN1-P"
      },
      "execution_count": null,
      "outputs": []
    },
    {
      "cell_type": "markdown",
      "source": [
        "Donde trigger_name es el nombre que se le dará al trigger, table_name es el nombre de la tabla a la que se asociará el trigger y INSERT, UPDATE o DELETE indica el tipo de evento que activará el trigger.\n",
        "\n",
        "Dentro del bloque BEGIN y END se pueden escribir las instrucciones que se desean ejecutar en respuesta al evento que activa el trigger. Por ejemplo, se puede escribir una consulta que actualice otras tablas de la base de datos, envíe una notificación por correo electrónico o ejecute un procedimiento almacenado.\n",
        "\n",
        "A continuación, se presenta un ejemplo que ilustra cómo crear un trigger que actualiza automáticamente el stock de un producto en una tabla de inventario cada vez que se realiza una venta en otra tabla de ventas:"
      ],
      "metadata": {
        "id": "kFR1suDRN61Y"
      }
    },
    {
      "cell_type": "code",
      "source": [
        "CREATE TRIGGER update_stock\n",
        "ON sales\n",
        "AFTER INSERT\n",
        "AS\n",
        "BEGIN\n",
        "   UPDATE inventory\n",
        "   SET stock = stock - i.quantity\n",
        "   FROM inventory AS i\n",
        "   INNER JOIN inserted AS ins ON i.product_id = ins.product_id;\n",
        "END;"
      ],
      "metadata": {
        "id": "kN1UlbttN7iX"
      },
      "execution_count": null,
      "outputs": []
    },
    {
      "cell_type": "markdown",
      "source": [
        "En este ejemplo, el trigger se llama update_stock y se asocia a la tabla sales. El trigger se activa después de una inserción en la tabla sales. El código dentro del bloque BEGIN realiza una actualización en la tabla inventory restando la cantidad vendida de la columna stock, utilizando el identificador product_id como clave de relación entre las tablas.\n",
        "\n",
        "Es importante tener en cuenta que la sintaxis para crear un trigger puede variar ligeramente según la versión de SQL que se esté utilizando y el gestor de base de datos específico."
      ],
      "metadata": {
        "id": "VaGAxOIjN9p5"
      }
    }
  ]
}