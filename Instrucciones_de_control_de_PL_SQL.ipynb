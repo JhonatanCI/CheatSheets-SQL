{
  "nbformat": 4,
  "nbformat_minor": 0,
  "metadata": {
    "colab": {
      "provenance": [],
      "authorship_tag": "ABX9TyMHOvOPzpB7cz/3seh68D/t",
      "include_colab_link": true
    },
    "kernelspec": {
      "name": "python3",
      "display_name": "Python 3"
    },
    "language_info": {
      "name": "python"
    }
  },
  "cells": [
    {
      "cell_type": "markdown",
      "metadata": {
        "id": "view-in-github",
        "colab_type": "text"
      },
      "source": [
        "<a href=\"https://colab.research.google.com/github/JhonatanCI/CheatSheets-SQL/blob/main/Instrucciones_de_control_de_PL_SQL.ipynb\" target=\"_parent\"><img src=\"https://colab.research.google.com/assets/colab-badge.svg\" alt=\"Open In Colab\"/></a>"
      ]
    },
    {
      "cell_type": "markdown",
      "source": [
        "#Instrucciones de control de PL/SQL"
      ],
      "metadata": {
        "id": "g7Gl2XqCu1FA"
      }
    },
    {
      "cell_type": "markdown",
      "source": [
        "Las instrucciones de control en PL/SQL son un conjunto de sentencias que permiten controlar el flujo de ejecución de un bloque de código. Estas instrucciones permiten tomar decisiones y repetir un conjunto de instrucciones varias veces según sea necesario.\n",
        "\n",
        "A continuación se describen algunas de las instrucciones de control más comunes en PL/SQL:\n",
        "\n",
        "* IF-THEN-ELSE: permite evaluar una condición y ejecutar un conjunto de instrucciones si la condición es verdadera y otro conjunto de instrucciones si la condición es falsa.\n",
        "\n",
        "* CASE: permite evaluar una expresión y ejecutar diferentes conjuntos de instrucciones según el valor de la expresión.\n",
        "\n",
        "* FOR LOOP: permite repetir un conjunto de instrucciones un número fijo de veces.\n",
        "\n",
        "* WHILE LOOP: permite repetir un conjunto de instrucciones mientras se cumpla una condición.\n",
        "\n",
        "* EXIT y CONTINUE: permiten salir o saltar a la siguiente iteración de un bucle, respectivamente.\n",
        "\n",
        "* EXCEPTION: permite manejar errores o excepciones en la ejecución del código."
      ],
      "metadata": {
        "id": "pa7MQxYzwaYy"
      }
    },
    {
      "cell_type": "markdown",
      "source": [
        "##Condicional"
      ],
      "metadata": {
        "id": "sGwYJkRPudIO"
      }
    },
    {
      "cell_type": "code",
      "execution_count": null,
      "metadata": {
        "id": "n4L7NVhlms6f"
      },
      "outputs": [],
      "source": [
        "#CONDICIONAL\n",
        "#If\n",
        "IF condicion THEN\n",
        "   -- sentencias si la condición es verdadera\n",
        "END IF;\n",
        "\n",
        "#Ejemplo\n",
        "DECLARE\n",
        "   edad NUMBER := 30;\n",
        "BEGIN\n",
        "   IF edad >= 18 THEN\n",
        "      DBMS_OUTPUT.PUT_LINE('La persona es mayor de edad.');\n",
        "   END IF;\n",
        "END;"
      ]
    },
    {
      "cell_type": "markdown",
      "source": [
        "##Case"
      ],
      "metadata": {
        "id": "XRb4nsrXw1rr"
      }
    },
    {
      "cell_type": "code",
      "source": [
        "#CASE\n",
        "CASE expresion\n",
        "   WHEN valor1 THEN\n",
        "      -- sentencias si la expresión es igual a valor1\n",
        "   WHEN valor2 THEN\n",
        "      -- sentencias si la expresión es igual a valor2\n",
        "   ELSE\n",
        "      -- sentencias si la expresión no coincide con ningún valor\n",
        "END CASE;\n",
        "\n",
        "#Ejemplo\n",
        "DECLARE\n",
        "   dia_semana VARCHAR2(10) := 'lunes';\n",
        "BEGIN\n",
        "   CASE dia_semana\n",
        "      WHEN 'lunes' THEN\n",
        "         DBMS_OUTPUT.PUT_LINE('Hoy es lunes.');\n",
        "      WHEN 'martes' THEN\n",
        "         DBMS_OUTPUT.PUT_LINE('Hoy es martes.');\n",
        "      ELSE\n",
        "         DBMS_OUTPUT.PUT_LINE('Hoy no es ni lunes ni martes.');\n",
        "   END CASE;\n",
        "END;"
      ],
      "metadata": {
        "id": "2WpEbvStw3fs"
      },
      "execution_count": null,
      "outputs": []
    },
    {
      "cell_type": "markdown",
      "source": [
        "##Bucles"
      ],
      "metadata": {
        "id": "TtG7ZGTCukUf"
      }
    },
    {
      "cell_type": "markdown",
      "source": [
        "###While"
      ],
      "metadata": {
        "id": "aXubsFVaxAGO"
      }
    },
    {
      "cell_type": "code",
      "source": [
        "#While\n",
        "WHILE condicion LOOP\n",
        "   -- sentencias mientras la condición sea verdadera\n",
        "END LOOP;\n",
        "\n",
        "#Ejemplo\n",
        "DECLARE\n",
        "   contador NUMBER := 1;\n",
        "BEGIN\n",
        "   WHILE contador <= 5 LOOP\n",
        "      DBMS_OUTPUT.PUT_LINE('El contador es: ' || contador);\n",
        "      contador := contador + 1;\n",
        "   END LOOP;\n",
        "END;"
      ],
      "metadata": {
        "id": "dT33oTWyuk0c"
      },
      "execution_count": null,
      "outputs": []
    },
    {
      "cell_type": "markdown",
      "source": [
        "###For"
      ],
      "metadata": {
        "id": "h9hy5WHxxHNV"
      }
    },
    {
      "cell_type": "code",
      "source": [
        "#For\n",
        "FOR variable IN valor_inicial..valor_final LOOP\n",
        "   -- sentencias mientras variable está en el rango de valor_inicial a valor_final\n",
        "END LOOP;\n",
        "\n",
        "#Ejemplo\n",
        "DECLARE\n",
        "   suma NUMBER := 0;\n",
        "BEGIN\n",
        "   FOR i IN 1..5 LOOP\n",
        "      suma := suma + i;\n",
        "   END LOOP;\n",
        "   DBMS_OUTPUT.PUT_LINE('La suma es: ' || suma);\n",
        "END;"
      ],
      "metadata": {
        "id": "2RdruWXNxJDF"
      },
      "execution_count": null,
      "outputs": []
    },
    {
      "cell_type": "markdown",
      "source": [
        "##Excepciones"
      ],
      "metadata": {
        "id": "HkgKQv5fur34"
      }
    },
    {
      "cell_type": "code",
      "source": [
        "#Excepciones\n",
        "BEGIN\n",
        "   -- bloque de código\n",
        "EXCEPTION\n",
        "   WHEN excepcion1 THEN\n",
        "      -- sentencias si se presenta la excepción1\n",
        "   WHEN excepcion2 THEN\n",
        "      -- sentencias si se presenta la excepción2\n",
        "   ELSE\n",
        "      -- sentencias si se presenta otra excepción\n",
        "END;\n",
        "\n",
        "#Ejemplo\n",
        "DECLARE\n",
        "   resultado NUMBER;\n",
        "BEGIN\n",
        "   resultado := 10 / 0;\n",
        "EXCEPTION\n",
        "   WHEN ZERO_DIVIDE THEN\n",
        "      DBMS_OUTPUT.PUT_LINE('Error: división entre cero.');\n",
        "END;"
      ],
      "metadata": {
        "id": "MyBdedpJuuXA"
      },
      "execution_count": null,
      "outputs": []
    }
  ]
}