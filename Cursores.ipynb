{
  "nbformat": 4,
  "nbformat_minor": 0,
  "metadata": {
    "colab": {
      "provenance": [],
      "authorship_tag": "ABX9TyPDAvBpaThjI8GgknwzWCvn",
      "include_colab_link": true
    },
    "kernelspec": {
      "name": "python3",
      "display_name": "Python 3"
    },
    "language_info": {
      "name": "python"
    }
  },
  "cells": [
    {
      "cell_type": "markdown",
      "metadata": {
        "id": "view-in-github",
        "colab_type": "text"
      },
      "source": [
        "<a href=\"https://colab.research.google.com/github/JhonatanCI/CheatSheets-SQL/blob/main/Cursores.ipynb\" target=\"_parent\"><img src=\"https://colab.research.google.com/assets/colab-badge.svg\" alt=\"Open In Colab\"/></a>"
      ]
    },
    {
      "cell_type": "markdown",
      "source": [
        "\n",
        "En SQL, un cursor es un objeto que permite recorrer un conjunto de filas devueltas por una consulta y procesarlas una por una. Los cursores son útiles cuando se necesita realizar operaciones más complejas en los datos devueltos que no se pueden lograr con una simple consulta.\n",
        "\n",
        "Para declarar un cursor en SQL, se utiliza la sintaxis:"
      ],
      "metadata": {
        "id": "s9kiCON4MF3h"
      }
    },
    {
      "cell_type": "code",
      "source": [
        "DECLARE cursor_name CURSOR FOR select_statement;"
      ],
      "metadata": {
        "id": "ei8uQPUqMQsO"
      },
      "execution_count": null,
      "outputs": []
    },
    {
      "cell_type": "markdown",
      "source": [
        "Donde cursor_name es el nombre que se le dará al cursor y select_statement es la consulta que se utilizará para definir el conjunto de filas que se recorrerán con el cursor.\n",
        "\n",
        "A continuación, se presenta un ejemplo que ilustra cómo declarar un cursor en SQL y recorrer las filas resultantes:"
      ],
      "metadata": {
        "id": "lAjA08wJMTBe"
      }
    },
    {
      "cell_type": "code",
      "source": [
        "-- Declaramos el cursor\n",
        "DECLARE my_cursor CURSOR FOR\n",
        "    SELECT first_name, last_name FROM employees;\n",
        "    \n",
        "-- Abrimos el cursor\n",
        "OPEN my_cursor;\n",
        "\n",
        "-- Recorremos las filas del cursor\n",
        "DECLARE @first_name varchar(50);\n",
        "DECLARE @last_name varchar(50);\n",
        "\n",
        "FETCH NEXT FROM my_cursor INTO @first_name, @last_name;\n",
        "WHILE @@FETCH_STATUS = 0\n",
        "BEGIN\n",
        "    -- Procesamos cada fila\n",
        "    PRINT 'Nombre completo: ' + @first_name + ' ' + @last_name;\n",
        "\n",
        "    -- Recuperamos la siguiente fila\n",
        "    FETCH NEXT FROM my_cursor INTO @first_name, @last_name;\n",
        "END\n",
        "\n",
        "-- Cerramos el cursor\n",
        "CLOSE my_cursor;\n"
      ],
      "metadata": {
        "id": "I_GBfCPiMVos"
      },
      "execution_count": null,
      "outputs": []
    },
    {
      "cell_type": "markdown",
      "source": [
        "En este ejemplo, se declara un cursor llamado my_cursor que recorre todas las filas de la tabla employees y devuelve los campos first_name y last_name. Luego, se abre el cursor y se recorren todas las filas con un bucle WHILE que procesa cada fila y la muestra en la pantalla. Finalmente, se cierra el cursor para liberar los recursos."
      ],
      "metadata": {
        "id": "vJIyFlFRMZ_L"
      }
    }
  ]
}