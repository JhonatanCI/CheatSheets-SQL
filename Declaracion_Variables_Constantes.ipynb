{
  "nbformat": 4,
  "nbformat_minor": 0,
  "metadata": {
    "colab": {
      "provenance": [],
      "authorship_tag": "ABX9TyO6IIm+KZjru6rXycd6upsJ",
      "include_colab_link": true
    },
    "kernelspec": {
      "name": "python3",
      "display_name": "Python 3"
    },
    "language_info": {
      "name": "python"
    }
  },
  "cells": [
    {
      "cell_type": "markdown",
      "metadata": {
        "id": "view-in-github",
        "colab_type": "text"
      },
      "source": [
        "<a href=\"https://colab.research.google.com/github/JhonatanCI/CheatSheets-SQL/blob/main/Declaracion_Variables_Constantes.ipynb\" target=\"_parent\"><img src=\"https://colab.research.google.com/assets/colab-badge.svg\" alt=\"Open In Colab\"/></a>"
      ]
    },
    {
      "cell_type": "markdown",
      "source": [
        "#Declaracion de variables y constantes"
      ],
      "metadata": {
        "id": "t7qTaNoClE9r"
      }
    },
    {
      "cell_type": "markdown",
      "source": [
        "Para declarar variables y constantes se tiene lo siguiente:\n",
        "\n",
        "* Nombre_variable es el nombre que se le asigna a la variable.\n",
        "* Tipo_dato es el tipo de dato que se va a almacenar en la variable. Puede ser cualquier tipo de dato válido en Oracle, como VARCHAR2, NUMBER, DATE, entre otros.\n",
        "* Nombre_constante es el nombre que se le asigna a la constante.\n",
        "valor es el valor que se le asigna a la constante y que no se puede cambiar durante la ejecución del bloque."
      ],
      "metadata": {
        "id": "2inOJefOuV8n"
      }
    },
    {
      "cell_type": "code",
      "source": [
        "#sintaxis básica para declarar una variable\n",
        "nombre_variable tipo_de_dato;\n",
        "\n",
        "#Para declarar una constante\n",
        "CONST nombre_constante tipo_de_dato := valor;"
      ],
      "metadata": {
        "id": "LPr9JCOzlQBA"
      },
      "execution_count": null,
      "outputs": []
    },
    {
      "cell_type": "markdown",
      "source": [
        "###Ejemplos\n"
      ],
      "metadata": {
        "id": "i1ZGm3rhlm3N"
      }
    },
    {
      "cell_type": "code",
      "source": [
        "# Declaracion de variables\n",
        "# Variable tipo NUMBER\n",
        "DECLARE\n",
        "  cantidad NUMBER;\n",
        "BEGIN\n",
        "  cantidad := 10;\n",
        "END;\n",
        "\n",
        "# Variable tipo VARCHAR\n",
        "DECLARE\n",
        "  nombre_cliente VARCHAR2(50);\n",
        "BEGIN\n",
        "  nombre_cliente := 'Juan Perez';\n",
        "END;\n",
        "\n",
        "# Variable tipo DATE\n",
        "DECLARE\n",
        "  fecha_nacimiento DATE;\n",
        "BEGIN\n",
        "  fecha_nacimiento := DATE'2000-05-20';\n",
        "END;\n",
        "\n",
        "# Variable tipo BOOLEAN\n",
        "DECLARE\n",
        "  es_activo BOOLEAN;\n",
        "BEGIN\n",
        "  es_activo := TRUE;\n",
        "END;\n"
      ],
      "metadata": {
        "id": "cyXiVyotvKdT"
      },
      "execution_count": null,
      "outputs": []
    },
    {
      "cell_type": "code",
      "source": [
        "#Declaracion de constantes\n",
        "#Variables numericas\n",
        "DECLARE\n",
        "   edad NUMBER := 30;\n",
        "BEGIN\n",
        "   DBMS_OUTPUT.PUT_LINE('La edad es: ' || edad);\n",
        "END;\n",
        "\n",
        "#Cadena de caracteres\n",
        "DECLARE\n",
        "   nombre VARCHAR2(50) := 'Juan';\n",
        "BEGIN\n",
        "   DBMS_OUTPUT.PUT_LINE('El nombre es: ' || nombre);\n",
        "END;\n",
        "\n",
        "#Constantes numericas\n",
        "DECLARE\n",
        "   CONST pi NUMBER := 3.1416;\n",
        "   radio NUMBER := 5;\n",
        "   area_circulo NUMBER;\n",
        "BEGIN\n",
        "   area_circulo := pi * (radio ** 2);\n",
        "   DBMS_OUTPUT.PUT_LINE('El área del círculo es: ' || area_circulo);\n",
        "END;\n",
        "\n",
        "#Constante cadena de caracteres\n",
        "DECLARE\n",
        "   CONST mensaje VARCHAR2(50) := 'Hola, mundo!';\n",
        "BEGIN\n",
        "   DBMS_OUTPUT.PUT_LINE(mensaje);\n",
        "END;\n"
      ],
      "metadata": {
        "id": "v16-jfgOlpxj"
      },
      "execution_count": null,
      "outputs": []
    }
  ]
}