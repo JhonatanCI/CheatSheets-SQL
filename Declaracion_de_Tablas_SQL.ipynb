{
  "nbformat": 4,
  "nbformat_minor": 0,
  "metadata": {
    "colab": {
      "provenance": [],
      "include_colab_link": true
    },
    "kernelspec": {
      "name": "python3",
      "display_name": "Python 3"
    },
    "language_info": {
      "name": "python"
    }
  },
  "cells": [
    {
      "cell_type": "markdown",
      "metadata": {
        "id": "view-in-github",
        "colab_type": "text"
      },
      "source": [
        "<a href=\"https://colab.research.google.com/github/JhonatanCI/CheatSheets-SQL/blob/main/Declaracion_de_Tablas_SQL.ipynb\" target=\"_parent\"><img src=\"https://colab.research.google.com/assets/colab-badge.svg\" alt=\"Open In Colab\"/></a>"
      ]
    },
    {
      "cell_type": "markdown",
      "source": [
        "# 1. Describir la estructura general de un bloque PL/SQL (con un ejemplo)\n",
        "\n"
      ],
      "metadata": {
        "id": "vrsHx6NgQx9o"
      }
    },
    {
      "cell_type": "code",
      "source": [
        "DECLARE\n",
        "   -- sección declarativa: se definen las variables y constantes\n",
        "   v_empleado_id NUMBER := 100;\n",
        "   v_salario     NUMBER;\n",
        "BEGIN\n",
        "   -- sección ejecutable: se realizan operaciones y sentencias SQL\n",
        "   SELECT salario INTO v_salario FROM empleados WHERE empleado_id = v_empleado_id;\n",
        "   \n",
        "   IF v_salario > 5000 THEN\n",
        "      DBMS_OUTPUT.PUT_LINE('El empleado con ID ' || v_empleado_id || ' tiene un salario mayor a $5000.');\n",
        "   ELSE\n",
        "      DBMS_OUTPUT.PUT_LINE('El empleado con ID ' || v_empleado_id || ' tiene un salario menor o igual a $5000.');\n",
        "   END IF;\n",
        "   \n",
        "   -- sección de excepciones: se manejan las excepciones que se puedan presentar\n",
        "   EXCEPTION\n",
        "      WHEN NO_DATA_FOUND THEN\n",
        "         DBMS_OUTPUT.PUT_LINE('El empleado con ID ' || v_empleado_id || ' no existe.');\n",
        "END;\n"
      ],
      "metadata": {
        "id": "TxaJXx4OQ62B"
      },
      "execution_count": null,
      "outputs": []
    },
    {
      "cell_type": "markdown",
      "source": [
        "# 2. ¿Cómo se hacen declaraciones de variables y constantes? Proponga ejemplos con distintos tipos de datos.\n"
      ],
      "metadata": {
        "id": "lF0V7YeyRJeL"
      }
    },
    {
      "cell_type": "code",
      "source": [
        "#sintaxis básica para declarar una variable\n",
        "nombre_variable tipo_de_dato;\n",
        "\n",
        "#Para declarar una constante\n",
        "CONST nombre_constante tipo_de_dato := valor;\n",
        "\n",
        "#EJEMPLOS:\n",
        "#Variables numericas\n",
        "DECLARE\n",
        "   edad NUMBER := 30;\n",
        "BEGIN\n",
        "   DBMS_OUTPUT.PUT_LINE('La edad es: ' || edad);\n",
        "END;\n",
        "\n",
        "#Cadena de caracteres\n",
        "DECLARE\n",
        "   nombre VARCHAR2(50) := 'Juan';\n",
        "BEGIN\n",
        "   DBMS_OUTPUT.PUT_LINE('El nombre es: ' || nombre);\n",
        "END;\n",
        "\n",
        "#Constantes numericas\n",
        "DECLARE\n",
        "   CONST pi NUMBER := 3.1416;\n",
        "   radio NUMBER := 5;\n",
        "   area_circulo NUMBER;\n",
        "BEGIN\n",
        "   area_circulo := pi * (radio ** 2);\n",
        "   DBMS_OUTPUT.PUT_LINE('El área del círculo es: ' || area_circulo);\n",
        "END;\n",
        "\n",
        "#Constante cadena de caracteres\n",
        "DECLARE\n",
        "   CONST mensaje VARCHAR2(50) := 'Hola, mundo!';\n",
        "BEGIN\n",
        "   DBMS_OUTPUT.PUT_LINE(mensaje);\n",
        "END;\n"
      ],
      "metadata": {
        "id": "wU0R1fBST-Bz"
      },
      "execution_count": null,
      "outputs": []
    },
    {
      "cell_type": "markdown",
      "source": [
        "# 3. Explicar las instrucciones de control de PL/SQL, ilustre sus respuestas por medio de ejemplos.\n"
      ],
      "metadata": {
        "id": "T8hZZmBSWiBS"
      }
    },
    {
      "cell_type": "code",
      "source": [
        "#CONDICIONAL\n",
        "#If\n",
        "IF condicion THEN\n",
        "   -- sentencias si la condición es verdadera\n",
        "END IF;\n",
        "\n",
        "#Ejemplo\n",
        "DECLARE\n",
        "   edad NUMBER := 30;\n",
        "BEGIN\n",
        "   IF edad >= 18 THEN\n",
        "      DBMS_OUTPUT.PUT_LINE('La persona es mayor de edad.');\n",
        "   END IF;\n",
        "END;\n",
        "\n",
        "#CASE\n",
        "CASE expresion\n",
        "   WHEN valor1 THEN\n",
        "      -- sentencias si la expresión es igual a valor1\n",
        "   WHEN valor2 THEN\n",
        "      -- sentencias si la expresión es igual a valor2\n",
        "   ELSE\n",
        "      -- sentencias si la expresión no coincide con ningún valor\n",
        "END CASE;\n",
        "\n",
        "#Ejemplo\n",
        "DECLARE\n",
        "   dia_semana VARCHAR2(10) := 'lunes';\n",
        "BEGIN\n",
        "   CASE dia_semana\n",
        "      WHEN 'lunes' THEN\n",
        "         DBMS_OUTPUT.PUT_LINE('Hoy es lunes.');\n",
        "      WHEN 'martes' THEN\n",
        "         DBMS_OUTPUT.PUT_LINE('Hoy es martes.');\n",
        "      ELSE\n",
        "         DBMS_OUTPUT.PUT_LINE('Hoy no es ni lunes ni martes.');\n",
        "   END CASE;\n",
        "END;\n",
        "\n",
        "#BUCLES\n",
        "#While\n",
        "WHILE condicion LOOP\n",
        "   -- sentencias mientras la condición sea verdadera\n",
        "END LOOP;\n",
        "\n",
        "#Ejemplo\n",
        "DECLARE\n",
        "   contador NUMBER := 1;\n",
        "BEGIN\n",
        "   WHILE contador <= 5 LOOP\n",
        "      DBMS_OUTPUT.PUT_LINE('El contador es: ' || contador);\n",
        "      contador := contador + 1;\n",
        "   END LOOP;\n",
        "END;\n",
        "\n",
        "#For\n",
        "FOR variable IN valor_inicial..valor_final LOOP\n",
        "   -- sentencias mientras variable está en el rango de valor_inicial a valor_final\n",
        "END LOOP;\n",
        "\n",
        "#Ejemplo\n",
        "DECLARE\n",
        "   suma NUMBER := 0;\n",
        "BEGIN\n",
        "   FOR i IN 1..5 LOOP\n",
        "      suma := suma + i;\n",
        "   END LOOP;\n",
        "   DBMS_OUTPUT.PUT_LINE('La suma es: ' || suma);\n",
        "END;\n",
        "\n",
        "#Excepciones\n",
        "BEGIN\n",
        "   -- bloque de código\n",
        "EXCEPTION\n",
        "   WHEN excepcion1 THEN\n",
        "      -- sentencias si se presenta la excepción1\n",
        "   WHEN excepcion2 THEN\n",
        "      -- sentencias si se presenta la excepción2\n",
        "   ELSE\n",
        "      -- sentencias si se presenta otra excepción\n",
        "END;\n",
        "\n",
        "#Ejemplo\n",
        "DECLARE\n",
        "   resultado NUMBER;\n",
        "BEGIN\n",
        "   resultado := 10 / 0;\n",
        "EXCEPTION\n",
        "   WHEN ZERO_DIVIDE THEN\n",
        "      DBMS_OUTPUT.PUT_LINE('Error: división entre cero.');\n",
        "END;\n"
      ],
      "metadata": {
        "id": "Tjew4WrrXwo2"
      },
      "execution_count": null,
      "outputs": []
    },
    {
      "cell_type": "markdown",
      "source": [
        "#4. Explique cómo se declaran y usan los procedimientos/funciones por medio de ejemplos.\n"
      ],
      "metadata": {
        "id": "vlBJVKhiWk0r"
      }
    },
    {
      "cell_type": "code",
      "source": [
        "CREATE OR REPLACE PROCEDURE calcular_area_rectangulo(\n",
        "   base IN NUMBER,\n",
        "   altura IN NUMBER,\n",
        "   area OUT NUMBER\n",
        ")\n",
        "IS\n",
        "BEGIN\n",
        "   area := base * altura;\n",
        "END;\n",
        "\n",
        "#En este ejemplo, se define un procedimiento llamado calcular_area_rectangulo \n",
        "#que toma dos parámetros de entrada (base y altura) y un parámetro de salida (area). \n",
        "#El procedimiento calcula el área del rectángulo y lo asigna al parámetro area.\n",
        "\n",
        "#Para llamar a este procedimiento en el código, se puede hacer lo siguiente:\n",
        "\n",
        "DECLARE\n",
        "   b NUMBER := 10;\n",
        "   h NUMBER := 5;\n",
        "   a NUMBER;\n",
        "BEGIN\n",
        "   calcular_area_rectangulo(b, h, a);\n",
        "   DBMS_OUTPUT.PUT_LINE('El área del rectángulo es: ' || a);\n",
        "END;\n",
        "\n",
        "\n",
        "#Otro ejemplo de declaraciony procedimiento\n",
        "CREATE OR REPLACE FUNCTION calcular_volumen_cilindro(\n",
        "   radio IN NUMBER,\n",
        "   altura IN NUMBER\n",
        ")\n",
        "RETURN NUMBER\n",
        "IS\n",
        "   pi NUMBER := 3.1416;\n",
        "   volumen NUMBER;\n",
        "BEGIN\n",
        "   volumen := pi * radio * radio * altura;\n",
        "   RETURN volumen;\n",
        "END;\n",
        "\n",
        "#Para llamar la funcion\n",
        "DECLARE\n",
        "   r NUMBER := 2;\n",
        "   h NUMBER := 5;\n",
        "   v NUMBER;\n",
        "BEGIN\n",
        "   v := calcular_volumen_cilindro(r, h);\n",
        "   DBMS_OUTPUT.PUT_LINE('El volumen del cilindro es: ' || v);\n",
        "END;\n"
      ],
      "metadata": {
        "id": "fOPoQYGsU37-"
      },
      "execution_count": null,
      "outputs": []
    }
  ]
}