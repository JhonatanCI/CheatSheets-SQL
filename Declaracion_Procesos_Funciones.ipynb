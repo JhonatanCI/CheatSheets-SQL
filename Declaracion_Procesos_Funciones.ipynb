{
  "nbformat": 4,
  "nbformat_minor": 0,
  "metadata": {
    "colab": {
      "provenance": [],
      "authorship_tag": "ABX9TyPozfpzSxR3Ex8N0b5NGtzM",
      "include_colab_link": true
    },
    "kernelspec": {
      "name": "python3",
      "display_name": "Python 3"
    },
    "language_info": {
      "name": "python"
    }
  },
  "cells": [
    {
      "cell_type": "markdown",
      "metadata": {
        "id": "view-in-github",
        "colab_type": "text"
      },
      "source": [
        "<a href=\"https://colab.research.google.com/github/JhonatanCI/CheatSheets-SQL/blob/main/Declaracion_Procesos_Funciones.ipynb\" target=\"_parent\"><img src=\"https://colab.research.google.com/assets/colab-badge.svg\" alt=\"Open In Colab\"/></a>"
      ]
    },
    {
      "cell_type": "markdown",
      "source": [
        "#Cómo se declaran y cómo de usan los procedimientos/funciones\n"
      ],
      "metadata": {
        "id": "k-nAt4Ty3pV0"
      }
    },
    {
      "cell_type": "markdown",
      "source": [
        "En Oracle, se pueden declarar y usar procedimientos y funciones en PL/SQL. Tanto los procedimientos como las funciones son bloques de código que se pueden llamar desde otras partes del programa, lo que permite la reutilización de código y hace que los programas sean más fáciles de mantener y depurar."
      ],
      "metadata": {
        "id": "d_yExQQix1Eq"
      }
    },
    {
      "cell_type": "markdown",
      "source": [
        "Declaración de procedimientos: Un procedimiento es un bloque de código que realiza una tarea específica y no devuelve ningún valor. Se declara utilizando la palabra clave \"PROCEDURE\"."
      ],
      "metadata": {
        "id": "VRLtWJXiyD5i"
      }
    },
    {
      "cell_type": "code",
      "execution_count": null,
      "metadata": {
        "id": "N1RBflfH3i5G"
      },
      "outputs": [],
      "source": [
        "CREATE OR REPLACE PROCEDURE calcular_area_rectangulo(\n",
        "   base IN NUMBER,\n",
        "   altura IN NUMBER,\n",
        "   area OUT NUMBER\n",
        ")\n",
        "IS\n",
        "BEGIN\n",
        "   area := base * altura;\n",
        "END;"
      ]
    },
    {
      "cell_type": "markdown",
      "source": [
        "En este ejemplo, se define un procedimiento llamado calcular_area_rectangulo, que toma dos parámetros de entrada (base y altura) y un parámetro de salida (area). \n",
        "\n",
        "El procedimiento calcula el área del rectángulo y lo asigna al parámetro area.\n",
        "\n",
        "Para llamar a este procedimiento en el código, se puede hacer lo siguiente:"
      ],
      "metadata": {
        "id": "h2ODXYc44RJP"
      }
    },
    {
      "cell_type": "code",
      "source": [
        "DECLARE\n",
        "   b NUMBER := 10;\n",
        "   h NUMBER := 5;\n",
        "   a NUMBER;\n",
        "BEGIN\n",
        "   calcular_area_rectangulo(b, h, a);\n",
        "   DBMS_OUTPUT.PUT_LINE('El área del rectángulo es: ' || a);\n",
        "END;\n",
        "\n",
        "\n"
      ],
      "metadata": {
        "id": "-dvDrCnM4hrB"
      },
      "execution_count": null,
      "outputs": []
    },
    {
      "cell_type": "markdown",
      "source": [
        "Declaración de funciones: Una función es un bloque de código que realiza una tarea específica y devuelve un valor. Se declara utilizando la palabra clave \"FUNCTION\". "
      ],
      "metadata": {
        "id": "Ae97Qjx_yVml"
      }
    },
    {
      "cell_type": "code",
      "source": [
        "CREATE OR REPLACE FUNCTION calcular_volumen_cilindro(\n",
        "   radio IN NUMBER,\n",
        "   altura IN NUMBER\n",
        ")\n",
        "RETURN NUMBER\n",
        "IS\n",
        "   pi NUMBER := 3.1416;\n",
        "   volumen NUMBER;\n",
        "BEGIN\n",
        "   volumen := pi * radio * radio * altura;\n",
        "   RETURN volumen;\n",
        "END;\n"
      ],
      "metadata": {
        "id": "oMKVBikUyZf_"
      },
      "execution_count": null,
      "outputs": []
    },
    {
      "cell_type": "markdown",
      "source": [
        "Podemos realizar un llamado a la funcion de la siguiente forma:"
      ],
      "metadata": {
        "id": "syz802-v4mpr"
      }
    },
    {
      "cell_type": "code",
      "source": [
        "\n",
        "DECLARE\n",
        "   r NUMBER := 2;\n",
        "   h NUMBER := 5;\n",
        "   v NUMBER;\n",
        "BEGIN\n",
        "   v := calcular_volumen_cilindro(r, h);\n",
        "   DBMS_OUTPUT.PUT_LINE('El volumen del cilindro es: ' || v);\n",
        "END;"
      ],
      "metadata": {
        "id": "hbhumrM54luF"
      },
      "execution_count": null,
      "outputs": []
    }
  ]
}