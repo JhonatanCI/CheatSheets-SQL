{
  "nbformat": 4,
  "nbformat_minor": 0,
  "metadata": {
    "colab": {
      "provenance": [],
      "authorship_tag": "ABX9TyOpRpxUEGRwqLtOgC33tCbp",
      "include_colab_link": true
    },
    "kernelspec": {
      "name": "python3",
      "display_name": "Python 3"
    },
    "language_info": {
      "name": "python"
    }
  },
  "cells": [
    {
      "cell_type": "markdown",
      "metadata": {
        "id": "view-in-github",
        "colab_type": "text"
      },
      "source": [
        "<a href=\"https://colab.research.google.com/github/JhonatanCI/CheatSheets-SQL/blob/main/Diff_Triggers.ipynb\" target=\"_parent\"><img src=\"https://colab.research.google.com/assets/colab-badge.svg\" alt=\"Open In Colab\"/></a>"
      ]
    },
    {
      "cell_type": "markdown",
      "source": [
        "En SQL, los triggers se pueden clasificar según el momento en que se ejecutan en relación a la operación que los activa. Los tres tipos principales de triggers son: BEFORE, AFTER e INSTEAD OF. A continuación, se describen las diferencias entre cada uno de ellos y se proporcionan ejemplos de su uso:\n",
        "\n",
        "Trigger BEFORE:\n",
        "Un trigger BEFORE se activa justo antes de que se ejecute la operación que lo ha desencadenado. Por lo tanto, se puede utilizar para modificar los datos que se van a insertar, actualizar o eliminar. El trigger puede modificar los valores de la fila o lanzar una excepción para abortar la operación.\n",
        "Por ejemplo, suponga que queremos restringir el valor de un campo price en una tabla products para que no sea mayor a $100. Podemos utilizar un trigger BEFORE para asegurarnos de que cualquier operación de actualización o inserción no supere ese límite:\n",
        "\n",
        "sql\n",
        "Copy code\n",
        "CREATE TRIGGER check_price\n",
        "BEFORE INSERT OR UPDATE ON products\n",
        "FOR EACH ROW\n",
        "BEGIN\n",
        "  IF NEW.price > 100 THEN\n",
        "    SIGNAL SQLSTATE '45000' SET MESSAGE_TEXT = 'Price should not be greater than 100';\n",
        "  END IF;\n",
        "END;\n",
        "En este ejemplo, el trigger check_price se activa antes de cada operación de inserción o actualización en la tabla products. Si el valor del campo price de la nueva fila o la fila actualizada es mayor a 100, se lanza una excepción y la operación se aborta.\n",
        "\n",
        "Trigger AFTER:\n",
        "Un trigger AFTER se activa justo después de que se haya completado la operación que lo ha desencadenado. Por lo tanto, se puede utilizar para realizar tareas adicionales después de la operación.\n",
        "Por ejemplo, suponga que queremos registrar cada vez que se actualiza el stock de un producto en la tabla inventory. Podemos utilizar un trigger AFTER para registrar la actualización en una tabla de auditoría:"
      ],
      "metadata": {
        "id": "feMVM-bdShuw"
      }
    },
    {
      "cell_type": "code",
      "source": [
        "CREATE TRIGGER update_inventory\n",
        "AFTER UPDATE ON inventory\n",
        "FOR EACH ROW\n",
        "BEGIN\n",
        "  INSERT INTO inventory_audit (product_id, updated_at, quantity)\n",
        "  VALUES (OLD.product_id, NOW(), NEW.stock - OLD.stock);\n",
        "END;\n"
      ],
      "metadata": {
        "id": "kBDewazESlH7"
      },
      "execution_count": null,
      "outputs": []
    },
    {
      "cell_type": "markdown",
      "source": [
        "En este ejemplo, el trigger update_inventory se activa después de cada operación de actualización en la tabla inventory. El código dentro del bloque BEGIN inserta una nueva fila en la tabla de auditoría inventory_audit, registrando el product_id actualizado, la fecha y hora actual y la cantidad actualizada.\n",
        "\n",
        "Trigger INSTEAD OF:\n",
        "Un trigger INSTEAD OF se utiliza para reemplazar la operación que lo ha desencadenado. Por lo tanto, se puede utilizar para realizar una acción diferente a la que se habría realizado normalmente. Esto se puede utilizar, por ejemplo, para permitir actualizaciones en una vista que no se corresponde con una única tabla subyacente."
      ],
      "metadata": {
        "id": "6JjjGJ-rSoap"
      }
    },
    {
      "cell_type": "markdown",
      "source": [
        "Por ejemplo, suponga que tenemos una vista orders_summary que muestra un resumen de las órdenes realizadas en varias tablas de una base de datos. Queremos permitir que los usuarios actualicen los datos de esta vista, pero no queremos que se realicen actualizaciones directamente en las tablas subyacentes. Podemos utilizar un trigger INSTEAD OF para manejar estas actualizaciones:"
      ],
      "metadata": {
        "id": "A5lpnsBWSty_"
      }
    },
    {
      "cell_type": "code",
      "source": [
        "CREATE VIEW orders_summary AS\n",
        "SELECT orders.order_id, customers.customer_name, order_details.quantity, products.product_name\n",
        "FROM orders\n",
        "JOIN customers ON orders.customer_id = customers.customer_id\n",
        "JOIN order_details ON orders.order_id = order_details.order_id\n",
        "JOIN products ON order_details.product_id = products.product_id;\n",
        "\n",
        "CREATE TRIGGER orders_summary_update\n",
        "INSTEAD OF UPDATE ON orders_summary\n",
        "FOR EACH ROW\n",
        "BEGIN\n",
        "  UPDATE orders\n",
        "  SET customer_id = (SELECT customer_id FROM customers WHERE customer_name = NEW.customer_name)\n",
        "  WHERE order_id = NEW.order_id;\n",
        "  \n",
        "  UPDATE order_details\n",
        "  SET product_id = (SELECT product_id FROM products WHERE product_name = NEW.product_name),\n",
        "      quantity = NEW.quantity\n",
        "  WHERE order_id = NEW.order_id;\n",
        "END;"
      ],
      "metadata": {
        "id": "O5dilECzSv0d"
      },
      "execution_count": null,
      "outputs": []
    },
    {
      "cell_type": "markdown",
      "source": [
        "En este ejemplo, creamos una vista orders_summary que muestra información de varias tablas. Luego creamos un trigger INSTEAD OF llamado orders_summary_update que se activa cuando se intenta actualizar la vista. El código dentro del bloque BEGIN actualiza las tablas subyacentes orders y order_details en lugar de actualizar directamente la vista. La actualización se realiza utilizando los datos de la nueva fila actualizada (NEW) y las subconsultas para obtener los valores correspondientes de customer_id y product_id.\n",
        "\n",
        "En resumen, los triggers BEFORE, AFTER e INSTEAD OF en SQL se diferencian en el momento en que se activan en relación a la operación que los desencadena. Cada tipo de trigger tiene un propósito específico y se puede utilizar para realizar diferentes tareas, como validar datos, registrar eventos o reemplazar una operación."
      ],
      "metadata": {
        "id": "_-pf7E0CS1En"
      }
    }
  ]
}