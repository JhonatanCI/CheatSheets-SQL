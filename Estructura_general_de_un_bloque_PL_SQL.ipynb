{
  "nbformat": 4,
  "nbformat_minor": 0,
  "metadata": {
    "colab": {
      "provenance": [],
      "include_colab_link": true
    },
    "kernelspec": {
      "name": "python3",
      "display_name": "Python 3"
    },
    "language_info": {
      "name": "python"
    }
  },
  "cells": [
    {
      "cell_type": "markdown",
      "metadata": {
        "id": "view-in-github",
        "colab_type": "text"
      },
      "source": [
        "<a href=\"https://colab.research.google.com/github/JhonatanCI/CheatSheets-SQL/blob/main/Estructura_general_de_un_bloque_PL_SQL.ipynb\" target=\"_parent\"><img src=\"https://colab.research.google.com/assets/colab-badge.svg\" alt=\"Open In Colab\"/></a>"
      ]
    },
    {
      "cell_type": "markdown",
      "source": [
        "Descripción de la estructura general de un bloque PL/SQL\n",
        "\n"
      ],
      "metadata": {
        "id": "vrsHx6NgQx9o"
      }
    },
    {
      "cell_type": "markdown",
      "source": [
        "Un bloque PL/SQL es una unidad de código que contiene uno o más sentencias SQL y/o PL/SQL. Su estructura general se compone de las siguientes partes:\n",
        "\n",
        "* Declaración del bloque: La declaración del bloque comienza con la palabra clave \"DECLARE\". Donde se declaran las variables, cursores, tipos y excepciones que se utilizarán dentro del bloque.\n",
        "\n",
        "* Cuerpo del bloque: El cuerpo del bloque comienza con la palabra clave \"BEGIN\". Donde se escriben las sentencias SQL y/o PL/SQL que realizarán alguna acción.\n",
        "\n",
        "* Manejo de excepciones: Estas son opcionales, se puede incluir una sección para manejar excepciones que puedan surgir durante la ejecución del bloque. Esta sección comienza con la palabra clave \"EXCEPTION\" y contiene uno o más bloques de manejo de excepciones.\n",
        "\n",
        "* Fin del bloque: El bloque se cierra con la palabra clave \"END\"."
      ],
      "metadata": {
        "id": "OTA2I1iItAT3"
      }
    },
    {
      "cell_type": "code",
      "source": [
        "DECLARE\n",
        "   -- sección declarativa: se definen las variables y constantes\n",
        "   v_empleado_id NUMBER := 100;\n",
        "   v_salario     NUMBER;\n",
        "BEGIN\n",
        "   -- sección ejecutable: se realizan operaciones y sentencias SQL\n",
        "   SELECT salario INTO v_salario FROM empleados WHERE empleado_id = v_empleado_id;\n",
        "   \n",
        "   IF v_salario > 5000 THEN\n",
        "      DBMS_OUTPUT.PUT_LINE('El empleado con ID ' || v_empleado_id || ' tiene un salario mayor a $5000.');\n",
        "   ELSE\n",
        "      DBMS_OUTPUT.PUT_LINE('El empleado con ID ' || v_empleado_id || ' tiene un salario menor o igual a $5000.');\n",
        "   END IF;\n",
        "   \n",
        "   -- sección de excepciones: se manejan las excepciones que se puedan presentar\n",
        "   EXCEPTION\n",
        "      WHEN NO_DATA_FOUND THEN\n",
        "         DBMS_OUTPUT.PUT_LINE('El empleado con ID ' || v_empleado_id || ' no existe.');\n",
        "END;\n"
      ],
      "metadata": {
        "id": "TxaJXx4OQ62B"
      },
      "execution_count": null,
      "outputs": []
    }
  ]
}